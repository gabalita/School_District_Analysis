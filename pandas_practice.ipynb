{
 "cells": [
  {
   "cell_type": "code",
   "execution_count": 1,
   "id": "87be9919",
   "metadata": {},
   "outputs": [
    {
     "name": "stdout",
     "output_type": "stream",
     "text": [
      "Hernandez High School\n",
      "Figueroa High School\n",
      "Wilson High School\n",
      "Wright High School\n"
     ]
    }
   ],
   "source": [
    "# List of high schools\n",
    "high_schools = [\"Hernandez High School\", \"Figueroa High School\",\n",
    "                \"Wilson High School\",\"Wright High School\"]\n",
    "\n",
    "for i in high_schools:\n",
    "    print (i)"
   ]
  },
  {
   "cell_type": "code",
   "execution_count": 2,
   "id": "46a31bc7",
   "metadata": {},
   "outputs": [
    {
     "name": "stdout",
     "output_type": "stream",
     "text": [
      "{'High School': 'Griffin', 'Type': 'District'}\n",
      "{'High School': 'Figueroa', 'Type': 'District'}\n",
      "{'High School': 'Wilson', 'Type': 'Charter'}\n",
      "{'High School': 'Wright', 'Type': 'Charter'}\n"
     ]
    }
   ],
   "source": [
    "# A list of dictionaries of high schools and the type of school.\n",
    "high_school_types = [{\"High School\": \"Griffin\", \"Type\":\"District\"},\n",
    "                    {\"High School\": \"Figueroa\", \"Type\": \"District\"},\n",
    "                    {\"High School\": \"Wilson\", \"Type\": \"Charter\"},\n",
    "                    {\"High School\": \"Wright\", \"Type\": \"Charter\"}]\n",
    "\n",
    "for item in high_school_types:\n",
    "    print(item)"
   ]
  },
  {
   "cell_type": "code",
   "execution_count": 3,
   "id": "55f2ba3c",
   "metadata": {},
   "outputs": [],
   "source": [
    "# List of high schools\n",
    "high_schools = [\"Huang High School\",  \"Figueroa High School\", \"Shelton High School\", \"Hernandez High School\",\"Griffin High School\",\"Wilson High School\", \"Cabrera High School\", \"Bailey High School\", \"Holden High School\", \"Pena High School\", \"Wright High School\",\"Rodriguez High School\", \"Johnson High School\", \"Ford High School\", \"Thomas High School\"]"
   ]
  },
  {
   "cell_type": "code",
   "execution_count": 4,
   "id": "5380f85e",
   "metadata": {},
   "outputs": [],
   "source": [
    "import pandas as pd"
   ]
  },
  {
   "cell_type": "code",
   "execution_count": 5,
   "id": "d29a1b09",
   "metadata": {},
   "outputs": [
    {
     "data": {
      "text/plain": [
       "0         Huang High School\n",
       "1      Figueroa High School\n",
       "2       Shelton High School\n",
       "3     Hernandez High School\n",
       "4       Griffin High School\n",
       "5        Wilson High School\n",
       "6       Cabrera High School\n",
       "7        Bailey High School\n",
       "8        Holden High School\n",
       "9          Pena High School\n",
       "10       Wright High School\n",
       "11    Rodriguez High School\n",
       "12      Johnson High School\n",
       "13         Ford High School\n",
       "14       Thomas High School\n",
       "dtype: object"
      ]
     },
     "execution_count": 5,
     "metadata": {},
     "output_type": "execute_result"
    }
   ],
   "source": [
    "# A Pandas Series is a one-dimensional, labeled array capable of holding any data type. \n",
    "# This means the data is linear and has an index that acts as a key in a dictionary.\n",
    "\n",
    "\n",
    "# Create a Pandas Series from a list.\n",
    "school_series = pd.Series(high_schools)\n",
    "school_series"
   ]
  },
  {
   "cell_type": "code",
   "execution_count": 6,
   "id": "b8755c0b",
   "metadata": {},
   "outputs": [
    {
     "name": "stdout",
     "output_type": "stream",
     "text": [
      "Huang High School\n",
      "Figueroa High School\n",
      "Shelton High School\n",
      "Hernandez High School\n",
      "Griffin High School\n",
      "Wilson High School\n",
      "Cabrera High School\n",
      "Bailey High School\n",
      "Holden High School\n",
      "Pena High School\n",
      "Wright High School\n",
      "Rodriguez High School\n",
      "Johnson High School\n",
      "Ford High School\n",
      "Thomas High School\n"
     ]
    }
   ],
   "source": [
    "# Skill drill: iterate throuhg Series and print each school\n",
    "for school in school_series:\n",
    "    print(school)"
   ]
  },
  {
   "cell_type": "code",
   "execution_count": 7,
   "id": "66ae3318",
   "metadata": {},
   "outputs": [],
   "source": [
    "# A list of dictionaries of high schools\n",
    "high_school_dicts = [{\"School ID\": 0, \"school_name\": \"Huang High School\", \"type\": \"District\"},\n",
    "                   {\"School ID\": 1, \"school_name\": \"Figueroa High School\", \"type\": \"District\"},\n",
    "                    {\"School ID\": 2, \"school_name\":\"Shelton High School\", \"type\": \"Charter\"},\n",
    "                    {\"School ID\": 3, \"school_name\":\"Hernandez High School\", \"type\": \"District\"},\n",
    "                    {\"School ID\": 4, \"school_name\":\"Griffin High School\", \"type\": \"Charter\"}]"
   ]
  },
  {
   "cell_type": "code",
   "execution_count": 8,
   "id": "7fafe106",
   "metadata": {},
   "outputs": [
    {
     "data": {
      "text/html": [
       "<div>\n",
       "<style scoped>\n",
       "    .dataframe tbody tr th:only-of-type {\n",
       "        vertical-align: middle;\n",
       "    }\n",
       "\n",
       "    .dataframe tbody tr th {\n",
       "        vertical-align: top;\n",
       "    }\n",
       "\n",
       "    .dataframe thead th {\n",
       "        text-align: right;\n",
       "    }\n",
       "</style>\n",
       "<table border=\"1\" class=\"dataframe\">\n",
       "  <thead>\n",
       "    <tr style=\"text-align: right;\">\n",
       "      <th></th>\n",
       "      <th>School ID</th>\n",
       "      <th>school_name</th>\n",
       "      <th>type</th>\n",
       "    </tr>\n",
       "  </thead>\n",
       "  <tbody>\n",
       "    <tr>\n",
       "      <th>0</th>\n",
       "      <td>0</td>\n",
       "      <td>Huang High School</td>\n",
       "      <td>District</td>\n",
       "    </tr>\n",
       "    <tr>\n",
       "      <th>1</th>\n",
       "      <td>1</td>\n",
       "      <td>Figueroa High School</td>\n",
       "      <td>District</td>\n",
       "    </tr>\n",
       "    <tr>\n",
       "      <th>2</th>\n",
       "      <td>2</td>\n",
       "      <td>Shelton High School</td>\n",
       "      <td>Charter</td>\n",
       "    </tr>\n",
       "    <tr>\n",
       "      <th>3</th>\n",
       "      <td>3</td>\n",
       "      <td>Hernandez High School</td>\n",
       "      <td>District</td>\n",
       "    </tr>\n",
       "    <tr>\n",
       "      <th>4</th>\n",
       "      <td>4</td>\n",
       "      <td>Griffin High School</td>\n",
       "      <td>Charter</td>\n",
       "    </tr>\n",
       "  </tbody>\n",
       "</table>\n",
       "</div>"
      ],
      "text/plain": [
       "   School ID            school_name      type\n",
       "0          0      Huang High School  District\n",
       "1          1   Figueroa High School  District\n",
       "2          2    Shelton High School   Charter\n",
       "3          3  Hernandez High School  District\n",
       "4          4    Griffin High School   Charter"
      ]
     },
     "execution_count": 8,
     "metadata": {},
     "output_type": "execute_result"
    }
   ],
   "source": [
    "# Create a Pandas Series from a list of dictionaries\n",
    "\n",
    "school_df = pd.DataFrame(high_school_dicts)\n",
    "school_df"
   ]
  },
  {
   "cell_type": "code",
   "execution_count": 9,
   "id": "a5a6a4ac",
   "metadata": {},
   "outputs": [],
   "source": [
    "# We can also create the same DataFrame by adding each column as a list, or Series, to an empty DataFrame.\n",
    "\n",
    "# Three separate lists of information on high schools\n",
    "school_id = [0, 1, 2, 3, 4]\n",
    "\n",
    "school_name = [\"Huang High School\", \"Figueroa High School\",\n",
    "\"Shelton High School\", \"Hernandez High School\",\"Griffin High School\"]\n",
    "\n",
    "type_of_school = [\"District\", \"District\", \"Charter\", \"District\",\"Charter\"]"
   ]
  },
  {
   "cell_type": "code",
   "execution_count": 10,
   "id": "157f5be7",
   "metadata": {},
   "outputs": [],
   "source": [
    "# Initialize a empty DataFrame.\n",
    "schools_df = pd.DataFrame()"
   ]
  },
  {
   "cell_type": "code",
   "execution_count": 14,
   "id": "4ecec242",
   "metadata": {},
   "outputs": [
    {
     "data": {
      "text/html": [
       "<div>\n",
       "<style scoped>\n",
       "    .dataframe tbody tr th:only-of-type {\n",
       "        vertical-align: middle;\n",
       "    }\n",
       "\n",
       "    .dataframe tbody tr th {\n",
       "        vertical-align: top;\n",
       "    }\n",
       "\n",
       "    .dataframe thead th {\n",
       "        text-align: right;\n",
       "    }\n",
       "</style>\n",
       "<table border=\"1\" class=\"dataframe\">\n",
       "  <thead>\n",
       "    <tr style=\"text-align: right;\">\n",
       "      <th></th>\n",
       "      <th>School ID</th>\n",
       "      <th>school_name</th>\n",
       "      <th>type</th>\n",
       "    </tr>\n",
       "  </thead>\n",
       "  <tbody>\n",
       "    <tr>\n",
       "      <th>0</th>\n",
       "      <td>0</td>\n",
       "      <td>Huang High School</td>\n",
       "      <td>District</td>\n",
       "    </tr>\n",
       "    <tr>\n",
       "      <th>1</th>\n",
       "      <td>1</td>\n",
       "      <td>Figueroa High School</td>\n",
       "      <td>District</td>\n",
       "    </tr>\n",
       "    <tr>\n",
       "      <th>2</th>\n",
       "      <td>2</td>\n",
       "      <td>Shelton High School</td>\n",
       "      <td>Charter</td>\n",
       "    </tr>\n",
       "    <tr>\n",
       "      <th>3</th>\n",
       "      <td>3</td>\n",
       "      <td>Hernandez High School</td>\n",
       "      <td>District</td>\n",
       "    </tr>\n",
       "    <tr>\n",
       "      <th>4</th>\n",
       "      <td>4</td>\n",
       "      <td>Griffin High School</td>\n",
       "      <td>Charter</td>\n",
       "    </tr>\n",
       "  </tbody>\n",
       "</table>\n",
       "</div>"
      ],
      "text/plain": [
       "   School ID            school_name      type\n",
       "0          0      Huang High School  District\n",
       "1          1   Figueroa High School  District\n",
       "2          2    Shelton High School   Charter\n",
       "3          3  Hernandez High School  District\n",
       "4          4    Griffin High School   Charter"
      ]
     },
     "execution_count": 14,
     "metadata": {},
     "output_type": "execute_result"
    }
   ],
   "source": [
    "# Instead of using the dictionary name, we'll use the \n",
    "# name of the DataFrame and make it equal to the list, like this:\n",
    "\n",
    "# Add the list to a new DataFrame.\n",
    "schools_df[\"School ID\"] = school_id\n",
    "schools_df[\"school_name\"] = school_name\n",
    "schools_df[\"type\"] = type_of_school\n",
    "\n",
    "# Print the DataFrame.\n",
    "schools_df"
   ]
  },
  {
   "cell_type": "code",
   "execution_count": 15,
   "id": "7eb00eb3",
   "metadata": {},
   "outputs": [],
   "source": [
    "# Another way to create this DataFrame is to create a Python dictionary from the three lists, like this:\n",
    "# dict = {'label1':list_variable1,'label2':list_variable2}\n",
    "\n",
    "# Create a dictionary of information on high schools.\n",
    "high_schools_dict1 = {'School ID': school_id, 'school_name':school_name, 'type':type_of_school}"
   ]
  },
  {
   "cell_type": "code",
   "execution_count": 22,
   "id": "dda8ff83",
   "metadata": {},
   "outputs": [
    {
     "data": {
      "text/html": [
       "<div>\n",
       "<style scoped>\n",
       "    .dataframe tbody tr th:only-of-type {\n",
       "        vertical-align: middle;\n",
       "    }\n",
       "\n",
       "    .dataframe tbody tr th {\n",
       "        vertical-align: top;\n",
       "    }\n",
       "\n",
       "    .dataframe thead th {\n",
       "        text-align: right;\n",
       "    }\n",
       "</style>\n",
       "<table border=\"1\" class=\"dataframe\">\n",
       "  <thead>\n",
       "    <tr style=\"text-align: right;\">\n",
       "      <th></th>\n",
       "      <th>School ID</th>\n",
       "      <th>school_name</th>\n",
       "      <th>type</th>\n",
       "    </tr>\n",
       "  </thead>\n",
       "  <tbody>\n",
       "    <tr>\n",
       "      <th>0</th>\n",
       "      <td>0</td>\n",
       "      <td>Huang High School</td>\n",
       "      <td>District</td>\n",
       "    </tr>\n",
       "    <tr>\n",
       "      <th>1</th>\n",
       "      <td>1</td>\n",
       "      <td>Figueroa High School</td>\n",
       "      <td>District</td>\n",
       "    </tr>\n",
       "    <tr>\n",
       "      <th>2</th>\n",
       "      <td>2</td>\n",
       "      <td>Shelton High School</td>\n",
       "      <td>Charter</td>\n",
       "    </tr>\n",
       "    <tr>\n",
       "      <th>3</th>\n",
       "      <td>3</td>\n",
       "      <td>Hernandez High School</td>\n",
       "      <td>District</td>\n",
       "    </tr>\n",
       "    <tr>\n",
       "      <th>4</th>\n",
       "      <td>4</td>\n",
       "      <td>Griffin High School</td>\n",
       "      <td>Charter</td>\n",
       "    </tr>\n",
       "  </tbody>\n",
       "</table>\n",
       "</div>"
      ],
      "text/plain": [
       "   School ID            school_name      type\n",
       "0          0      Huang High School  District\n",
       "1          1   Figueroa High School  District\n",
       "2          2    Shelton High School   Charter\n",
       "3          3  Hernandez High School  District\n",
       "4          4    Griffin High School   Charter"
      ]
     },
     "execution_count": 22,
     "metadata": {},
     "output_type": "execute_result"
    }
   ],
   "source": [
    "# Three separate lists of information on high schools\n",
    "school_id = [0, 1, 2, 3, 4]\n",
    "\n",
    "school_name = [\"Huang High School\", \"Figueroa High School\",\n",
    "\"Shelton High School\", \"Hernandez High School\",\"Griffin High School\"]\n",
    "\n",
    "type_of_school = [\"District\", \"District\", \"Charter\", \"District\",\"Charter\"]\n",
    "\n",
    "# Create a dictionary of information on high schools.\n",
    "high_schools_dict1 = {'School ID': school_id, 'school_name':school_name, 'type':type_of_school}\n",
    "\n",
    "# Initialize a empty DataFrame.\n",
    "schools_df = pd.DataFrame()\n",
    "\n",
    "schools_df = pd.DataFrame(high_schools_dict1)\n",
    "schools_df"
   ]
  },
  {
   "cell_type": "code",
   "execution_count": 23,
   "id": "27b3d0ff",
   "metadata": {},
   "outputs": [
    {
     "data": {
      "text/plain": [
       "Index(['School ID', 'school_name', 'type'], dtype='object')"
      ]
     },
     "execution_count": 23,
     "metadata": {},
     "output_type": "execute_result"
    }
   ],
   "source": [
    "school_df.columns"
   ]
  },
  {
   "cell_type": "code",
   "execution_count": 24,
   "id": "5640c651",
   "metadata": {},
   "outputs": [
    {
     "data": {
      "text/plain": [
       "RangeIndex(start=0, stop=5, step=1)"
      ]
     },
     "execution_count": 24,
     "metadata": {},
     "output_type": "execute_result"
    }
   ],
   "source": [
    "school_df.index"
   ]
  },
  {
   "cell_type": "code",
   "execution_count": 25,
   "id": "408d4fe1",
   "metadata": {},
   "outputs": [
    {
     "data": {
      "text/plain": [
       "array([[0, 'Huang High School', 'District'],\n",
       "       [1, 'Figueroa High School', 'District'],\n",
       "       [2, 'Shelton High School', 'Charter'],\n",
       "       [3, 'Hernandez High School', 'District'],\n",
       "       [4, 'Griffin High School', 'Charter']], dtype=object)"
      ]
     },
     "execution_count": 25,
     "metadata": {},
     "output_type": "execute_result"
    }
   ],
   "source": [
    "school_df.values"
   ]
  },
  {
   "cell_type": "code",
   "execution_count": 28,
   "id": "80b90ae7",
   "metadata": {},
   "outputs": [
    {
     "data": {
      "text/plain": [
       "0   NaN\n",
       "1   NaN\n",
       "2   NaN\n",
       "dtype: float64"
      ]
     },
     "execution_count": 28,
     "metadata": {},
     "output_type": "execute_result"
    }
   ],
   "source": [
    "d = {'a': 1, 'b': 2, 'c': 3}\n",
    ">>> ser = pd.Series(data=d, index=[0, 1, 2])\n",
    ">>> ser"
   ]
  },
  {
   "cell_type": "code",
   "execution_count": null,
   "id": "9714126d",
   "metadata": {},
   "outputs": [],
   "source": []
  }
 ],
 "metadata": {
  "kernelspec": {
   "display_name": "PythonData",
   "language": "python",
   "name": "pythondata"
  },
  "language_info": {
   "codemirror_mode": {
    "name": "ipython",
    "version": 3
   },
   "file_extension": ".py",
   "mimetype": "text/x-python",
   "name": "python",
   "nbconvert_exporter": "python",
   "pygments_lexer": "ipython3",
   "version": "3.8.8"
  }
 },
 "nbformat": 4,
 "nbformat_minor": 5
}
