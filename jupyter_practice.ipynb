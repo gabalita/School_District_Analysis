{
 "cells": [
  {
   "cell_type": "code",
   "execution_count": 9,
   "id": "1c076561",
   "metadata": {},
   "outputs": [],
   "source": [
    "# first_cat is an object of the class Cat, which has the attribute name\n",
    "\n",
    "class Cat:\n",
    "    def __init__(self, name):\n",
    "        self.name = name"
   ]
  },
  {
   "cell_type": "code",
   "execution_count": 10,
   "id": "e46adb17",
   "metadata": {},
   "outputs": [],
   "source": [
    "first_cat = Cat('Felix')"
   ]
  },
  {
   "cell_type": "code",
   "execution_count": 11,
   "id": "015ceb05",
   "metadata": {},
   "outputs": [
    {
     "name": "stdout",
     "output_type": "stream",
     "text": [
      "Felix\n"
     ]
    }
   ],
   "source": [
    "print(first_cat.name)"
   ]
  },
  {
   "cell_type": "code",
   "execution_count": 12,
   "id": "5b11a90d",
   "metadata": {},
   "outputs": [],
   "source": [
    "second_cat = Cat('Garfield')"
   ]
  },
  {
   "cell_type": "code",
   "execution_count": 13,
   "id": "5a9f089f",
   "metadata": {},
   "outputs": [
    {
     "name": "stdout",
     "output_type": "stream",
     "text": [
      "Garfield\n"
     ]
    }
   ],
   "source": [
    "print(second_cat.name)"
   ]
  },
  {
   "cell_type": "code",
   "execution_count": 14,
   "id": "97e86c75",
   "metadata": {},
   "outputs": [],
   "source": [
    "# Objects have attributes, but they also have functions \n",
    "\n",
    "class Dog:\n",
    "    def __init__(self, name, color, sound):\n",
    "        self.name = name\n",
    "        self.color = color\n",
    "        self.sound = sound\n",
    "\n",
    "    def bark(self):\n",
    "        return self.sound + ' ' + self.sound\n",
    "    \n",
    "# attributes = name, color, sound\n",
    "\n",
    "# method/function = bark"
   ]
  },
  {
   "cell_type": "code",
   "execution_count": 18,
   "id": "c5fc3a52",
   "metadata": {},
   "outputs": [
    {
     "name": "stdout",
     "output_type": "stream",
     "text": [
      "Pongo\n",
      "Golden\n"
     ]
    },
    {
     "data": {
      "text/plain": [
       "'Woof Woof'"
      ]
     },
     "execution_count": 18,
     "metadata": {},
     "output_type": "execute_result"
    }
   ],
   "source": [
    "first_dog = Dog('Pongo', 'Golden', 'Woof')\n",
    "print(first_dog.name)\n",
    "print(first_dog.color)\n",
    "first_dog.bark()"
   ]
  },
  {
   "cell_type": "code",
   "execution_count": 19,
   "id": "eca6928a",
   "metadata": {},
   "outputs": [],
   "source": [
    "# Summary\n",
    "# An object can hold attributes, but it also can run functions"
   ]
  },
  {
   "cell_type": "code",
   "execution_count": null,
   "id": "c3663af1",
   "metadata": {},
   "outputs": [],
   "source": []
  }
 ],
 "metadata": {
  "kernelspec": {
   "display_name": "PythonData",
   "language": "python",
   "name": "pythondata"
  },
  "language_info": {
   "codemirror_mode": {
    "name": "ipython",
    "version": 3
   },
   "file_extension": ".py",
   "mimetype": "text/x-python",
   "name": "python",
   "nbconvert_exporter": "python",
   "pygments_lexer": "ipython3",
   "version": "3.8.8"
  }
 },
 "nbformat": 4,
 "nbformat_minor": 5
}
