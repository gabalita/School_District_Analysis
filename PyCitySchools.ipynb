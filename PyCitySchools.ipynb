{
 "cells": [
  {
   "cell_type": "code",
   "execution_count": 40,
   "id": "12df67cf",
   "metadata": {},
   "outputs": [],
   "source": [
    "# import package\n",
    "import pandas as pd\n",
    "import os"
   ]
  },
  {
   "cell_type": "code",
   "execution_count": 41,
   "id": "b572fe8a",
   "metadata": {},
   "outputs": [],
   "source": [
    "school_data_to_load = os.path.join(\"Resources/schools_complete.csv\")\n",
    "student_data_to_load = os.path.join(\"Resources/students_complete.csv\")"
   ]
  },
  {
   "cell_type": "code",
   "execution_count": 42,
   "id": "08a7bc4f",
   "metadata": {},
   "outputs": [],
   "source": [
    "school_data_df = pd.read_csv(school_data_to_load)"
   ]
  },
  {
   "cell_type": "code",
   "execution_count": 43,
   "id": "b7301d09",
   "metadata": {},
   "outputs": [],
   "source": [
    "student_data_df = pd.read_csv(student_data_to_load)"
   ]
  },
  {
   "cell_type": "code",
   "execution_count": 44,
   "id": "cc1cc6fd",
   "metadata": {},
   "outputs": [],
   "source": [
    "# Determine if there are any missing values in the school dataframe\n",
    "# Method 1: Use count()\n",
    "# school_data_df.count()\n",
    "# student_data_df.count()"
   ]
  },
  {
   "cell_type": "code",
   "execution_count": 45,
   "id": "e7f2bc56",
   "metadata": {},
   "outputs": [],
   "source": [
    "# Determine if there are any missing values in the school data.\n",
    "# Method 2: Use .isnull() or .isnull().sum()\n",
    "# school_data_df.isnull()\n",
    "# student_data_df.isnull().sum()"
   ]
  },
  {
   "cell_type": "code",
   "execution_count": 46,
   "id": "8fc0d973",
   "metadata": {},
   "outputs": [],
   "source": [
    "# Determine if there are not any missing values in the school data.\n",
    "# Method 3: Use .notnull()\n",
    "# school_data_df.notnull()"
   ]
  },
  {
   "cell_type": "code",
   "execution_count": 47,
   "id": "7e264814",
   "metadata": {},
   "outputs": [],
   "source": [
    "# Check out the data type of the budget column in school data\n",
    "# school_data_df['budget'].dtype"
   ]
  },
  {
   "cell_type": "code",
   "execution_count": 48,
   "id": "e298e4bf",
   "metadata": {},
   "outputs": [],
   "source": [
    "# Determine data types for the student DataFrame.\n",
    "# student_data_df.dtypes"
   ]
  },
  {
   "cell_type": "code",
   "execution_count": 49,
   "id": "0d5d5747",
   "metadata": {},
   "outputs": [],
   "source": [
    "# Add each prefix and suffix to remove to a list.\n",
    "prefixes_suffixes = [\"Dr. \", \"Mr. \",\"Ms. \", \"Mrs. \", \"Miss \", \" MD\", \" DDS\", \" DVM\", \" PhD\"]"
   ]
  },
  {
   "cell_type": "code",
   "execution_count": 50,
   "id": "ccaffe7e",
   "metadata": {},
   "outputs": [
    {
     "name": "stderr",
     "output_type": "stream",
     "text": [
      "<ipython-input-50-d1e003a410f5>:3: FutureWarning: The default value of regex will change from True to False in a future version.\n",
      "  student_data_df[\"student_name\"] = student_data_df[\"student_name\"].str.replace(word,\"\")\n"
     ]
    }
   ],
   "source": [
    "# Iterate through the words in the \"prefixes_suffixes\" list and replace them with an empty space, \"\".\n",
    "for word in prefixes_suffixes:\n",
    "    student_data_df[\"student_name\"] = student_data_df[\"student_name\"].str.replace(word,\"\")"
   ]
  },
  {
   "cell_type": "code",
   "execution_count": 51,
   "id": "e83dbc20",
   "metadata": {},
   "outputs": [
    {
     "data": {
      "text/plain": [
       "0       Paul Bradley\n",
       "1       Victor Smith\n",
       "2    Kevin Rodriguez\n",
       "3      Richard Scott\n",
       "4         Bonnie Ray\n",
       "Name: student_name, dtype: object"
      ]
     },
     "execution_count": 51,
     "metadata": {},
     "output_type": "execute_result"
    }
   ],
   "source": [
    "student_data_df['student_name'].head()"
   ]
  },
  {
   "cell_type": "code",
   "execution_count": null,
   "id": "06ecf97f",
   "metadata": {},
   "outputs": [],
   "source": []
  }
 ],
 "metadata": {
  "kernelspec": {
   "display_name": "PythonData",
   "language": "python",
   "name": "pythondata"
  },
  "language_info": {
   "codemirror_mode": {
    "name": "ipython",
    "version": 3
   },
   "file_extension": ".py",
   "mimetype": "text/x-python",
   "name": "python",
   "nbconvert_exporter": "python",
   "pygments_lexer": "ipython3",
   "version": "3.8.8"
  }
 },
 "nbformat": 4,
 "nbformat_minor": 5
}
